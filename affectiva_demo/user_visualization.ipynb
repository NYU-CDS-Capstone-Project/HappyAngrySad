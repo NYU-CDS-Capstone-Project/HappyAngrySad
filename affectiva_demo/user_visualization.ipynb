{
 "cells": [
  {
   "cell_type": "code",
   "execution_count": 57,
   "metadata": {
    "collapsed": false
   },
   "outputs": [],
   "source": [
    "import data\n",
    "import pandas as pd\n",
    "import numpy as np\n",
    "import plotly.plotly as py\n",
    "import plotly.graph_objs as go\n",
    "import requests\n",
    "import json"
   ]
  },
  {
   "cell_type": "code",
   "execution_count": 58,
   "metadata": {
    "collapsed": false
   },
   "outputs": [],
   "source": [
    "env = 'prod'\n",
    "def buildUrl(db, url):\n",
    "    '''\n",
    "    Purpose:\n",
    "            Function to create URL and add 'prod' if the production mode is ON\n",
    "    Parameters:\n",
    "            db: name of the database\n",
    "            url: specific function/url ending\n",
    "    Return:\n",
    "                URL which could be used in post, get, put methods\n",
    "        '''\n",
    "\n",
    "    result = data.base_url + db\n",
    "    if env == 'prod':\n",
    "        result += '_prod'\n",
    "    if len(url) > 0:\n",
    "        result += \"/\" + url\n",
    "    return result\n",
    "\n",
    "def post(db, url, data, auth, headers, expected_code):\n",
    "    '''\n",
    "    Purpose:\n",
    "        Generic function for creating \"POST\" URL strings to interact with DB.\n",
    "    Parameters:\n",
    "        url: this indicates the specific Cloudant DB to access\n",
    "        data: defines how you interact with the DB API\n",
    "        auth: these are the usernames and keys to the DB\n",
    "        headers: determines the format of the response\n",
    "        expected_code: this is the expected response from the DB API\n",
    "    Returns:\n",
    "        The response from the DB API\n",
    "    '''\n",
    "    print \"buildUrl(db, url)\"\n",
    "    print buildUrl(db, url)\n",
    "    response = requests.post(\n",
    "        buildUrl(db, url), data=json.dumps(data), auth=auth[env], headers=headers)\n",
    "    if response.status_code != expected_code:\n",
    "        raise Exception(\"Http error:\" + response.text)\n",
    "    return response"
   ]
  },
  {
   "cell_type": "code",
   "execution_count": 59,
   "metadata": {
    "collapsed": false
   },
   "outputs": [],
   "source": [
    "def getAllUsers():\n",
    "    query = {\n",
    "        \"selector\": {\n",
    "            \"_id\": {\n",
    "                \"$gt\": 0\n",
    "            }\n",
    "        },\n",
    "        \"fields\": [\n",
    "            \"login\",\n",
    "        ],\n",
    "    }\n",
    "    r = post('users', '_all_docs', query,\n",
    "             data.usersDbAuth, data.jsonContentHeaders, 200)\n",
    "    return r.json()"
   ]
  },
  {
   "cell_type": "code",
   "execution_count": 62,
   "metadata": {
    "collapsed": false
   },
   "outputs": [
    {
     "name": "stdout",
     "output_type": "stream",
     "text": [
      "buildUrl(db, url)\n",
      "https://happyangrysad.cloudant.com/users_prod/_all_docs\n"
     ]
    },
    {
     "data": {
      "text/plain": [
       "7"
      ]
     },
     "execution_count": 62,
     "metadata": {},
     "output_type": "execute_result"
    }
   ],
   "source": [
    "users = getAllUsers()\n",
    "len(users['rows'])"
   ]
  },
  {
   "cell_type": "code",
   "execution_count": null,
   "metadata": {
    "collapsed": false
   },
   "outputs": [],
   "source": []
  },
  {
   "cell_type": "code",
   "execution_count": null,
   "metadata": {
    "collapsed": true
   },
   "outputs": [],
   "source": []
  },
  {
   "cell_type": "code",
   "execution_count": null,
   "metadata": {
    "collapsed": true
   },
   "outputs": [],
   "source": []
  }
 ],
 "metadata": {
  "anaconda-cloud": {},
  "kernelspec": {
   "display_name": "Python [conda root]",
   "language": "python",
   "name": "conda-root-py"
  },
  "language_info": {
   "codemirror_mode": {
    "name": "ipython",
    "version": 2
   },
   "file_extension": ".py",
   "mimetype": "text/x-python",
   "name": "python",
   "nbconvert_exporter": "python",
   "pygments_lexer": "ipython2",
   "version": "2.7.12"
  }
 },
 "nbformat": 4,
 "nbformat_minor": 1
}
