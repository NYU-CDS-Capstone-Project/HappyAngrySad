{
 "cells": [
  {
   "cell_type": "code",
   "execution_count": 1,
   "metadata": {
    "collapsed": false
   },
   "outputs": [],
   "source": [
    "import json\n",
    "import pandas as pd\n",
    "import numpy as np\n",
    "import yaml"
   ]
  },
  {
   "cell_type": "code",
   "execution_count": 2,
   "metadata": {
    "collapsed": false
   },
   "outputs": [
    {
     "name": "stdout",
     "output_type": "stream",
     "text": [
      "(48, 11)\n"
     ]
    }
   ],
   "source": [
    "def clean_data(json_file):\n",
    "    with open(json_file) as data_file:    \n",
    "        data = yaml.safe_load(data_file)\n",
    "    num_items = len(data['items'])\n",
    "    df_s = []\n",
    "    for item in data['items']:\n",
    "        df = pd.DataFrame(item)\n",
    "        df = df.drop(['etag','kind'],1)\n",
    "        df = df.transpose()\n",
    "        df['video_id'] = df.iloc[0,0]\n",
    "        df.reset_index(inplace=True, drop=True)\n",
    "        df = df.drop(df.index[[0]])\n",
    "        df_s.append(df)\n",
    "    \n",
    "    #more data\n",
    "    df_s.extend(df_s)\n",
    "    df_s.extend(df_s)\n",
    "    df_s.extend(df_s)\n",
    "    data = pd.concat(df_s)\n",
    "    data.reset_index(inplace = True, drop = True)\n",
    "    return data\n",
    "\n",
    "data = clean_data('example_content.json')\n",
    "print data.shape"
   ]
  },
  {
   "cell_type": "code",
   "execution_count": 3,
   "metadata": {
    "collapsed": false
   },
   "outputs": [
    {
     "data": {
      "text/html": [
       "<div>\n",
       "<table border=\"1\" class=\"dataframe\">\n",
       "  <thead>\n",
       "    <tr style=\"text-align: right;\">\n",
       "      <th></th>\n",
       "      <th>categoryId</th>\n",
       "      <th>channelId</th>\n",
       "      <th>channelTitle</th>\n",
       "      <th>description</th>\n",
       "      <th>liveBroadcastContent</th>\n",
       "      <th>localized</th>\n",
       "      <th>publishedAt</th>\n",
       "      <th>tags</th>\n",
       "      <th>thumbnails</th>\n",
       "      <th>title</th>\n",
       "      <th>video_id</th>\n",
       "      <th>labels</th>\n",
       "    </tr>\n",
       "  </thead>\n",
       "  <tbody>\n",
       "    <tr>\n",
       "      <th>0</th>\n",
       "      <td>1</td>\n",
       "      <td>UCxijiMU6XtEJpw29tTIK8Zw</td>\n",
       "      <td>ThomasNoakes</td>\n",
       "      <td>Finger Cleaner made the top 5 finalists in the...</td>\n",
       "      <td>none</td>\n",
       "      <td>{u'description': u'Finger Cleaner made the top...</td>\n",
       "      <td>2013-11-25T04:14:29.000Z</td>\n",
       "      <td>[Crash The Super Bowl, Doritos (Brand), 2014, ...</td>\n",
       "      <td>{u'default': {u'url': u'https://i.ytimg.com/vi...</td>\n",
       "      <td>DORITOS \"FINGER CLEANER\" - 2014 CRASH THE SUPE...</td>\n",
       "      <td>ugo7Y2lRsxc</td>\n",
       "      <td>1</td>\n",
       "    </tr>\n",
       "    <tr>\n",
       "      <th>1</th>\n",
       "      <td>24</td>\n",
       "      <td>UCz6CZ_MxRK_8ke5zmSRCWYA</td>\n",
       "      <td>BestCodTrolls</td>\n",
       "      <td>Wish the Pats wouldve won :l\\nM&amp;Ms Super Bowl ...</td>\n",
       "      <td>none</td>\n",
       "      <td>{u'description': u'Wish the Pats wouldve won :...</td>\n",
       "      <td>2012-02-06T03:53:08.000Z</td>\n",
       "      <td>[2012, super, bowl, giants, patriots, m&amp;ms, co...</td>\n",
       "      <td>{u'default': {u'url': u'https://i.ytimg.com/vi...</td>\n",
       "      <td>M&amp;Ms Super Bowl Commercial 2012 \"I'm Sexy and ...</td>\n",
       "      <td>Pc7BnT5X1tw</td>\n",
       "      <td>2</td>\n",
       "    </tr>\n",
       "  </tbody>\n",
       "</table>\n",
       "</div>"
      ],
      "text/plain": [
       "  categoryId                 channelId   channelTitle  \\\n",
       "0          1  UCxijiMU6XtEJpw29tTIK8Zw   ThomasNoakes   \n",
       "1         24  UCz6CZ_MxRK_8ke5zmSRCWYA  BestCodTrolls   \n",
       "\n",
       "                                         description liveBroadcastContent  \\\n",
       "0  Finger Cleaner made the top 5 finalists in the...                 none   \n",
       "1  Wish the Pats wouldve won :l\\nM&Ms Super Bowl ...                 none   \n",
       "\n",
       "                                           localized  \\\n",
       "0  {u'description': u'Finger Cleaner made the top...   \n",
       "1  {u'description': u'Wish the Pats wouldve won :...   \n",
       "\n",
       "                publishedAt  \\\n",
       "0  2013-11-25T04:14:29.000Z   \n",
       "1  2012-02-06T03:53:08.000Z   \n",
       "\n",
       "                                                tags  \\\n",
       "0  [Crash The Super Bowl, Doritos (Brand), 2014, ...   \n",
       "1  [2012, super, bowl, giants, patriots, m&ms, co...   \n",
       "\n",
       "                                          thumbnails  \\\n",
       "0  {u'default': {u'url': u'https://i.ytimg.com/vi...   \n",
       "1  {u'default': {u'url': u'https://i.ytimg.com/vi...   \n",
       "\n",
       "                                               title     video_id  labels  \n",
       "0  DORITOS \"FINGER CLEANER\" - 2014 CRASH THE SUPE...  ugo7Y2lRsxc       1  \n",
       "1  M&Ms Super Bowl Commercial 2012 \"I'm Sexy and ...  Pc7BnT5X1tw       2  "
      ]
     },
     "execution_count": 3,
     "metadata": {},
     "output_type": "execute_result"
    }
   ],
   "source": [
    "'''\n",
    "Labels:\n",
    "1 - joy\n",
    "2 - surprise\n",
    "3 - fear\n",
    "4 - sadness\n",
    "-1 - unknown\n",
    "'''\n",
    "\n",
    "labels = []\n",
    "num_labels = 4\n",
    "for i in range(data.shape[0]):\n",
    "    if i < 6:\n",
    "        labels.append(i % num_labels+1)\n",
    "    else:\n",
    "        labels.append(-1)\n",
    "    \n",
    "data['labels'] = labels\n",
    "data.head(2)"
   ]
  },
  {
   "cell_type": "code",
   "execution_count": 4,
   "metadata": {
    "collapsed": false
   },
   "outputs": [],
   "source": [
    "import re \n",
    "def split_words(words):\n",
    "    return re.sub( r\"([A-Z])\", r\" \\1\", words)\n",
    "\n",
    "data['channelTitle'] = data['channelTitle'].apply(split_words)\n",
    "\n",
    "data['publishedAt'] = pd.to_datetime(data['publishedAt'])\n",
    "data['publishedAt_month'] = data['publishedAt'].apply(lambda x: x.month)\n",
    "data['publishedAt_year'] = data['publishedAt'].apply(lambda x: x.year)\n",
    "\n",
    "def extract_str_from_list(column):\n",
    "    return ' '.join(column)\n",
    "    \n",
    "data['tags'] = data['tags'].map(extract_str_from_list)"
   ]
  },
  {
   "cell_type": "code",
   "execution_count": 5,
   "metadata": {
    "collapsed": false
   },
   "outputs": [
    {
     "data": {
      "text/html": [
       "<div>\n",
       "<table border=\"1\" class=\"dataframe\">\n",
       "  <thead>\n",
       "    <tr style=\"text-align: right;\">\n",
       "      <th></th>\n",
       "      <th>categoryId</th>\n",
       "      <th>channelTitle</th>\n",
       "      <th>description</th>\n",
       "      <th>tags</th>\n",
       "      <th>title</th>\n",
       "      <th>video_id</th>\n",
       "      <th>labels</th>\n",
       "      <th>publishedAt_month</th>\n",
       "      <th>publishedAt_year</th>\n",
       "    </tr>\n",
       "  </thead>\n",
       "  <tbody>\n",
       "    <tr>\n",
       "      <th>0</th>\n",
       "      <td>1</td>\n",
       "      <td>Thomas Noakes</td>\n",
       "      <td>Finger Cleaner made the top 5 finalists in the...</td>\n",
       "      <td>Crash The Super Bowl Doritos (Brand) 2014 Comm...</td>\n",
       "      <td>DORITOS \"FINGER CLEANER\" - 2014 CRASH THE SUPE...</td>\n",
       "      <td>ugo7Y2lRsxc</td>\n",
       "      <td>1</td>\n",
       "      <td>11</td>\n",
       "      <td>2013</td>\n",
       "    </tr>\n",
       "    <tr>\n",
       "      <th>1</th>\n",
       "      <td>24</td>\n",
       "      <td>Best Cod Trolls</td>\n",
       "      <td>Wish the Pats wouldve won :l\\nM&amp;Ms Super Bowl ...</td>\n",
       "      <td>2012 super bowl giants patriots m&amp;ms commercia...</td>\n",
       "      <td>M&amp;Ms Super Bowl Commercial 2012 \"I'm Sexy and ...</td>\n",
       "      <td>Pc7BnT5X1tw</td>\n",
       "      <td>2</td>\n",
       "      <td>2</td>\n",
       "      <td>2012</td>\n",
       "    </tr>\n",
       "  </tbody>\n",
       "</table>\n",
       "</div>"
      ],
      "text/plain": [
       "  categoryId      channelTitle  \\\n",
       "0          1     Thomas Noakes   \n",
       "1         24   Best Cod Trolls   \n",
       "\n",
       "                                         description  \\\n",
       "0  Finger Cleaner made the top 5 finalists in the...   \n",
       "1  Wish the Pats wouldve won :l\\nM&Ms Super Bowl ...   \n",
       "\n",
       "                                                tags  \\\n",
       "0  Crash The Super Bowl Doritos (Brand) 2014 Comm...   \n",
       "1  2012 super bowl giants patriots m&ms commercia...   \n",
       "\n",
       "                                               title     video_id  labels  \\\n",
       "0  DORITOS \"FINGER CLEANER\" - 2014 CRASH THE SUPE...  ugo7Y2lRsxc       1   \n",
       "1  M&Ms Super Bowl Commercial 2012 \"I'm Sexy and ...  Pc7BnT5X1tw       2   \n",
       "\n",
       "   publishedAt_month  publishedAt_year  \n",
       "0                 11              2013  \n",
       "1                  2              2012  "
      ]
     },
     "execution_count": 5,
     "metadata": {},
     "output_type": "execute_result"
    }
   ],
   "source": [
    "# 'localized' column includes title and description\n",
    "data = data.drop(['channelId', 'liveBroadcastContent', 'localized', 'thumbnails', 'publishedAt'], 1)\n",
    "data.head(2)"
   ]
  },
  {
   "cell_type": "code",
   "execution_count": 6,
   "metadata": {
    "collapsed": true
   },
   "outputs": [],
   "source": [
    "data['text'] =  data['channelTitle'] + data['description'] + data['tags'] + data['title']\n",
    "data = data.drop(['channelTitle', 'description', 'tags', 'title'],1)"
   ]
  },
  {
   "cell_type": "code",
   "execution_count": 7,
   "metadata": {
    "collapsed": false
   },
   "outputs": [
    {
     "data": {
      "text/html": [
       "<div>\n",
       "<table border=\"1\" class=\"dataframe\">\n",
       "  <thead>\n",
       "    <tr style=\"text-align: right;\">\n",
       "      <th></th>\n",
       "      <th>labels</th>\n",
       "      <th>video_id</th>\n",
       "      <th>text</th>\n",
       "      <th>categoryId</th>\n",
       "      <th>publishedAt_month</th>\n",
       "      <th>publishedAt_year</th>\n",
       "    </tr>\n",
       "  </thead>\n",
       "  <tbody>\n",
       "    <tr>\n",
       "      <th>0</th>\n",
       "      <td>1</td>\n",
       "      <td>ugo7Y2lRsxc</td>\n",
       "      <td>Thomas NoakesFinger Cleaner made the top 5 fi...</td>\n",
       "      <td>1</td>\n",
       "      <td>11</td>\n",
       "      <td>2013</td>\n",
       "    </tr>\n",
       "    <tr>\n",
       "      <th>1</th>\n",
       "      <td>2</td>\n",
       "      <td>Pc7BnT5X1tw</td>\n",
       "      <td>Best Cod TrollsWish the Pats wouldve won :l\\n...</td>\n",
       "      <td>24</td>\n",
       "      <td>2</td>\n",
       "      <td>2012</td>\n",
       "    </tr>\n",
       "  </tbody>\n",
       "</table>\n",
       "</div>"
      ],
      "text/plain": [
       "   labels     video_id                                               text  \\\n",
       "0       1  ugo7Y2lRsxc   Thomas NoakesFinger Cleaner made the top 5 fi...   \n",
       "1       2  Pc7BnT5X1tw   Best Cod TrollsWish the Pats wouldve won :l\\n...   \n",
       "\n",
       "  categoryId  publishedAt_month  publishedAt_year  \n",
       "0          1                 11              2013  \n",
       "1         24                  2              2012  "
      ]
     },
     "execution_count": 7,
     "metadata": {},
     "output_type": "execute_result"
    }
   ],
   "source": [
    "data = data[['labels', 'video_id', 'text', 'categoryId', 'publishedAt_month', 'publishedAt_year']]\n",
    "data.head(2)"
   ]
  },
  {
   "cell_type": "code",
   "execution_count": 8,
   "metadata": {
    "collapsed": false
   },
   "outputs": [],
   "source": [
    "from sklearn.feature_extraction.text import CountVectorizer\n",
    "vectorizer = CountVectorizer()\n",
    "vectorizer.fit(data.text)\n",
    "\n",
    "# Transform to a counter\n",
    "a = vectorizer.transform(data.text).toarray()"
   ]
  },
  {
   "cell_type": "code",
   "execution_count": 9,
   "metadata": {
    "collapsed": false
   },
   "outputs": [
    {
     "data": {
      "text/plain": [
       "[u'1st', u'2012', u'2013', u'2014', u'2015', u'2016']"
      ]
     },
     "execution_count": 9,
     "metadata": {},
     "output_type": "execute_result"
    }
   ],
   "source": [
    "vectorizer.get_feature_names()[:6]"
   ]
  },
  {
   "cell_type": "code",
   "execution_count": 10,
   "metadata": {
    "collapsed": false
   },
   "outputs": [
    {
     "data": {
      "text/html": [
       "<div>\n",
       "<table border=\"1\" class=\"dataframe\">\n",
       "  <thead>\n",
       "    <tr style=\"text-align: right;\">\n",
       "      <th></th>\n",
       "      <th>labels</th>\n",
       "      <th>video_id</th>\n",
       "      <th>categoryId</th>\n",
       "      <th>publishedAt_month</th>\n",
       "      <th>publishedAt_year</th>\n",
       "      <th>0</th>\n",
       "      <th>1</th>\n",
       "      <th>2</th>\n",
       "      <th>3</th>\n",
       "      <th>4</th>\n",
       "      <th>...</th>\n",
       "      <th>343</th>\n",
       "      <th>344</th>\n",
       "      <th>345</th>\n",
       "      <th>346</th>\n",
       "      <th>347</th>\n",
       "      <th>348</th>\n",
       "      <th>349</th>\n",
       "      <th>350</th>\n",
       "      <th>351</th>\n",
       "      <th>352</th>\n",
       "    </tr>\n",
       "  </thead>\n",
       "  <tbody>\n",
       "    <tr>\n",
       "      <th>0</th>\n",
       "      <td>1</td>\n",
       "      <td>ugo7Y2lRsxc</td>\n",
       "      <td>1</td>\n",
       "      <td>11</td>\n",
       "      <td>2013</td>\n",
       "      <td>1</td>\n",
       "      <td>0</td>\n",
       "      <td>0</td>\n",
       "      <td>3</td>\n",
       "      <td>0</td>\n",
       "      <td>...</td>\n",
       "      <td>1</td>\n",
       "      <td>1</td>\n",
       "      <td>0</td>\n",
       "      <td>0</td>\n",
       "      <td>1</td>\n",
       "      <td>1</td>\n",
       "      <td>0</td>\n",
       "      <td>1</td>\n",
       "      <td>0</td>\n",
       "      <td>0</td>\n",
       "    </tr>\n",
       "    <tr>\n",
       "      <th>1</th>\n",
       "      <td>2</td>\n",
       "      <td>Pc7BnT5X1tw</td>\n",
       "      <td>24</td>\n",
       "      <td>2</td>\n",
       "      <td>2012</td>\n",
       "      <td>0</td>\n",
       "      <td>2</td>\n",
       "      <td>0</td>\n",
       "      <td>0</td>\n",
       "      <td>0</td>\n",
       "      <td>...</td>\n",
       "      <td>0</td>\n",
       "      <td>0</td>\n",
       "      <td>0</td>\n",
       "      <td>0</td>\n",
       "      <td>0</td>\n",
       "      <td>0</td>\n",
       "      <td>1</td>\n",
       "      <td>0</td>\n",
       "      <td>0</td>\n",
       "      <td>0</td>\n",
       "    </tr>\n",
       "  </tbody>\n",
       "</table>\n",
       "<p>2 rows × 358 columns</p>\n",
       "</div>"
      ],
      "text/plain": [
       "   labels     video_id categoryId  publishedAt_month  publishedAt_year  0  1  \\\n",
       "0       1  ugo7Y2lRsxc          1                 11              2013  1  0   \n",
       "1       2  Pc7BnT5X1tw         24                  2              2012  0  2   \n",
       "\n",
       "   2  3  4 ...   343  344  345  346  347  348  349  350  351  352  \n",
       "0  0  3  0 ...     1    1    0    0    1    1    0    1    0    0  \n",
       "1  0  0  0 ...     0    0    0    0    0    0    1    0    0    0  \n",
       "\n",
       "[2 rows x 358 columns]"
      ]
     },
     "execution_count": 10,
     "metadata": {},
     "output_type": "execute_result"
    }
   ],
   "source": [
    "data = pd.concat([data, pd.DataFrame(a)],1)\n",
    "data = data.drop(['text'], 1)\n",
    "data.head(2)"
   ]
  },
  {
   "cell_type": "code",
   "execution_count": 11,
   "metadata": {
    "collapsed": false
   },
   "outputs": [
    {
     "data": {
      "text/plain": [
       "LabelSpreading(alpha=0.2, gamma=20, kernel='rbf', max_iter=30, n_neighbors=7,\n",
       "        tol=0.001)"
      ]
     },
     "execution_count": 11,
     "metadata": {},
     "output_type": "execute_result"
    }
   ],
   "source": [
    "from sklearn import datasets\n",
    "from sklearn.semi_supervised import LabelSpreading\n",
    "from sklearn.cross_validation import train_test_split\n",
    "\n",
    "#train, test = train_test_split(data, test_size=0.33, random_state=42)\n",
    "train = data.ix[:3,:]\n",
    "test = data.ix[6:,:]\n",
    "\n",
    "label_prop_model = LabelSpreading()\n",
    "label_prop_model.fit(train.ix[:,2:], train['labels'])"
   ]
  },
  {
   "cell_type": "code",
   "execution_count": 12,
   "metadata": {
    "collapsed": false
   },
   "outputs": [
    {
     "name": "stdout",
     "output_type": "stream",
     "text": [
      "[1 2 3 4]\n",
      "-------------------\n"
     ]
    },
    {
     "data": {
      "text/plain": [
       "array([[ 1.,  0.,  0.,  0.],\n",
       "       [ 0.,  1.,  0.,  0.],\n",
       "       [ 0.,  0.,  1.,  0.],\n",
       "       [ 0.,  0.,  0.,  1.]])"
      ]
     },
     "execution_count": 12,
     "metadata": {},
     "output_type": "execute_result"
    }
   ],
   "source": [
    "print label_prop_model.predict(train.ix[:,2:])\n",
    "print '-------------------'\n",
    "label_prop_model.predict_proba(train.ix[:,2:])"
   ]
  },
  {
   "cell_type": "code",
   "execution_count": 13,
   "metadata": {
    "collapsed": false
   },
   "outputs": [
    {
     "name": "stdout",
     "output_type": "stream",
     "text": [
      "[1 2 3 4 1 1 1 2 3 4 1 1 1 2 3 4 1 1 1 2 3 4 1 1 1 2 3 4 1 1 1 2 3 4 1 1 1\n",
      " 2 3 4 1 1]\n",
      "-------------------\n"
     ]
    },
    {
     "name": "stderr",
     "output_type": "stream",
     "text": [
      "/home/evelyn/anaconda2/lib/python2.7/site-packages/sklearn/semi_supervised/label_propagation.py:190: RuntimeWarning: invalid value encountered in divide\n",
      "  probabilities /= normalizer\n"
     ]
    },
    {
     "data": {
      "text/plain": [
       "array([[  1.,   0.,   0.,   0.],\n",
       "       [  0.,   1.,   0.,   0.],\n",
       "       [  0.,   0.,   1.,   0.],\n",
       "       [  0.,   0.,   0.,   1.],\n",
       "       [ nan,  nan,  nan,  nan],\n",
       "       [ nan,  nan,  nan,  nan],\n",
       "       [  1.,   0.,   0.,   0.],\n",
       "       [  0.,   1.,   0.,   0.],\n",
       "       [  0.,   0.,   1.,   0.],\n",
       "       [  0.,   0.,   0.,   1.],\n",
       "       [ nan,  nan,  nan,  nan],\n",
       "       [ nan,  nan,  nan,  nan],\n",
       "       [  1.,   0.,   0.,   0.],\n",
       "       [  0.,   1.,   0.,   0.],\n",
       "       [  0.,   0.,   1.,   0.],\n",
       "       [  0.,   0.,   0.,   1.],\n",
       "       [ nan,  nan,  nan,  nan],\n",
       "       [ nan,  nan,  nan,  nan],\n",
       "       [  1.,   0.,   0.,   0.],\n",
       "       [  0.,   1.,   0.,   0.],\n",
       "       [  0.,   0.,   1.,   0.],\n",
       "       [  0.,   0.,   0.,   1.],\n",
       "       [ nan,  nan,  nan,  nan],\n",
       "       [ nan,  nan,  nan,  nan],\n",
       "       [  1.,   0.,   0.,   0.],\n",
       "       [  0.,   1.,   0.,   0.],\n",
       "       [  0.,   0.,   1.,   0.],\n",
       "       [  0.,   0.,   0.,   1.],\n",
       "       [ nan,  nan,  nan,  nan],\n",
       "       [ nan,  nan,  nan,  nan],\n",
       "       [  1.,   0.,   0.,   0.],\n",
       "       [  0.,   1.,   0.,   0.],\n",
       "       [  0.,   0.,   1.,   0.],\n",
       "       [  0.,   0.,   0.,   1.],\n",
       "       [ nan,  nan,  nan,  nan],\n",
       "       [ nan,  nan,  nan,  nan],\n",
       "       [  1.,   0.,   0.,   0.],\n",
       "       [  0.,   1.,   0.,   0.],\n",
       "       [  0.,   0.,   1.,   0.],\n",
       "       [  0.,   0.,   0.,   1.],\n",
       "       [ nan,  nan,  nan,  nan],\n",
       "       [ nan,  nan,  nan,  nan]])"
      ]
     },
     "execution_count": 13,
     "metadata": {},
     "output_type": "execute_result"
    }
   ],
   "source": [
    "print label_prop_model.predict(test.ix[:,2:])\n",
    "print '-------------------'\n",
    "label_prop_model.predict_proba(test.ix[:,2:])"
   ]
  },
  {
   "cell_type": "code",
   "execution_count": null,
   "metadata": {
    "collapsed": true
   },
   "outputs": [],
   "source": []
  },
  {
   "cell_type": "code",
   "execution_count": null,
   "metadata": {
    "collapsed": false
   },
   "outputs": [],
   "source": []
  }
 ],
 "metadata": {
  "kernelspec": {
   "display_name": "Python 2",
   "language": "python",
   "name": "python2"
  },
  "language_info": {
   "codemirror_mode": {
    "name": "ipython",
    "version": 2
   },
   "file_extension": ".py",
   "mimetype": "text/x-python",
   "name": "python",
   "nbconvert_exporter": "python",
   "pygments_lexer": "ipython2",
   "version": "2.7.12"
  }
 },
 "nbformat": 4,
 "nbformat_minor": 0
}
